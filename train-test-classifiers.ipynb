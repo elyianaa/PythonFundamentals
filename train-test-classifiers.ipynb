{
 "cells": [
  {
   "cell_type": "markdown",
   "metadata": {},
   "source": [
    "### Train and test three classifiers using scikit learn libraries/algorithms in Python\n",
    "##### House Loan example, Binary classification"
   ]
  },
  {
   "cell_type": "markdown",
   "metadata": {},
   "source": [
    "1. import libraries and modules\n",
    "2. import dataset using pandas\n",
    "3. pre-process the dataset (missing data, normalization, label encoding, imbalanced data, train/test split)\n",
    "4. train models\n",
    "5. test models"
   ]
  },
  {
   "cell_type": "code",
   "execution_count": 10,
   "metadata": {},
   "outputs": [],
   "source": [
    "import pandas as pd\n",
    "from sklearn.ensemble import RandomForestClassifier\n",
    "from sklearn.neural_network import MLPClassifier\n",
    "from sklearn.linear_model import LogisticRegression\n",
    "\n",
    "from sklearn.metrics import roc_auc_score, accuracy_score\n",
    "from sklearn.model_selection import train_test_split"
   ]
  },
  {
   "cell_type": "code",
   "execution_count": 11,
   "metadata": {},
   "outputs": [
    {
     "data": {
      "text/html": [
       "<div>\n",
       "<style scoped>\n",
       "    .dataframe tbody tr th:only-of-type {\n",
       "        vertical-align: middle;\n",
       "    }\n",
       "\n",
       "    .dataframe tbody tr th {\n",
       "        vertical-align: top;\n",
       "    }\n",
       "\n",
       "    .dataframe thead th {\n",
       "        text-align: right;\n",
       "    }\n",
       "</style>\n",
       "<table border=\"1\" class=\"dataframe\">\n",
       "  <thead>\n",
       "    <tr style=\"text-align: right;\">\n",
       "      <th></th>\n",
       "      <th>Feat1</th>\n",
       "      <th>Feat2</th>\n",
       "    </tr>\n",
       "  </thead>\n",
       "  <tbody>\n",
       "    <tr>\n",
       "      <th>count</th>\n",
       "      <td>30.000000</td>\n",
       "      <td>30.000000</td>\n",
       "    </tr>\n",
       "    <tr>\n",
       "      <th>mean</th>\n",
       "      <td>30.300000</td>\n",
       "      <td>111533.333333</td>\n",
       "    </tr>\n",
       "    <tr>\n",
       "      <th>std</th>\n",
       "      <td>8.047917</td>\n",
       "      <td>23247.889535</td>\n",
       "    </tr>\n",
       "    <tr>\n",
       "      <th>min</th>\n",
       "      <td>18.000000</td>\n",
       "      <td>80000.000000</td>\n",
       "    </tr>\n",
       "    <tr>\n",
       "      <th>25%</th>\n",
       "      <td>24.250000</td>\n",
       "      <td>95250.000000</td>\n",
       "    </tr>\n",
       "    <tr>\n",
       "      <th>50%</th>\n",
       "      <td>28.000000</td>\n",
       "      <td>105000.000000</td>\n",
       "    </tr>\n",
       "    <tr>\n",
       "      <th>75%</th>\n",
       "      <td>35.000000</td>\n",
       "      <td>120750.000000</td>\n",
       "    </tr>\n",
       "    <tr>\n",
       "      <th>max</th>\n",
       "      <td>51.000000</td>\n",
       "      <td>175000.000000</td>\n",
       "    </tr>\n",
       "  </tbody>\n",
       "</table>\n",
       "</div>"
      ],
      "text/plain": [
       "           Feat1          Feat2\n",
       "count  30.000000      30.000000\n",
       "mean   30.300000  111533.333333\n",
       "std     8.047917   23247.889535\n",
       "min    18.000000   80000.000000\n",
       "25%    24.250000   95250.000000\n",
       "50%    28.000000  105000.000000\n",
       "75%    35.000000  120750.000000\n",
       "max    51.000000  175000.000000"
      ]
     },
     "execution_count": 11,
     "metadata": {},
     "output_type": "execute_result"
    }
   ],
   "source": [
    "loan = pd.read_csv(\"HouseLoan.csv\")\n",
    "loan.describe()"
   ]
  },
  {
   "cell_type": "code",
   "execution_count": 12,
   "metadata": {},
   "outputs": [],
   "source": [
    "# split into features (predictors) and target/label using pandas\n",
    "loan_feat = loan.iloc[:,0:2] # features\n",
    "loan_targ = loan.iloc[:,2] #target.label\n",
    "\n",
    "from sklearn.preprocessing import LabelEncoder, OneHotEncoder\n",
    "\n",
    "loan_targLE = LabelEncoder().fit_transform(loan['Loan'])"
   ]
  },
  {
   "cell_type": "code",
   "execution_count": 13,
   "metadata": {},
   "outputs": [],
   "source": [
    "RFclass = RandomForestClassifier() # tune hyperparametesusing cross-validation\n",
    "NNclass = MLPClassifier()\n",
    "LRclass = LogisticRegression()"
   ]
  },
  {
   "cell_type": "code",
   "execution_count": 14,
   "metadata": {},
   "outputs": [
    {
     "name": "stdout",
     "output_type": "stream",
     "text": [
      "RF classifier accuracy score: 0.8571428571428572\n",
      "NN classifier accuracy score: 0.5\n",
      "LR classifier accuracy score: 0.5\n",
      "RF classifier accuracy score: 0.8333333333333334\n",
      "NN classifier accuracy score: 0.5833333333333334\n",
      "LR classifier accuracy score: 0.4166666666666667\n"
     ]
    }
   ],
   "source": [
    "# train test split\n",
    "loanTrainX,loanTestX,loanTrainY,loanTestY = train_test_split(loan_feat, loan_targLE, test_size=0.4)\n",
    "\n",
    "# fit training data, train models in training data\n",
    "RFclass.fit(loanTrainX, loanTrainY)\n",
    "NNclass.fit(loanTrainX, loanTrainY)\n",
    "LRclass.fit(loanTrainX, loanTrainY)\n",
    "\n",
    "# ground truth, test data, actual test output, historical, we have it, it exists\n",
    "# carry out predictions on test dataset\n",
    "RFpredLoan = RFclass.predict(loanTestX)\n",
    "NNpredLoan = NNclass.predict(loanTestX)\n",
    "LRpredLoan = LRclass.predict(loanTestX)\n",
    "\n",
    "# Error metrics using roc_auc score\n",
    "print('RF classifier accuracy score:', roc_auc_score(loanTestY, RFpredLoan))\n",
    "print('NN classifier accuracy score:', roc_auc_score(loanTestY, NNpredLoan))\n",
    "print('LR classifier accuracy score:', roc_auc_score(loanTestY, LRpredLoan))\n",
    "\n",
    "# Error metrics using accuracy score\n",
    "print('RF classifier accuracy score:', accuracy_score(loanTestY, RFpredLoan))\n",
    "print('NN classifier accuracy score:', accuracy_score(loanTestY, NNpredLoan))\n",
    "print('LR classifier accuracy score:', accuracy_score(loanTestY, LRpredLoan))"
   ]
  }
 ],
 "metadata": {
  "kernelspec": {
   "display_name": "Python 3.9.12 ('base')",
   "language": "python",
   "name": "python3"
  },
  "language_info": {
   "codemirror_mode": {
    "name": "ipython",
    "version": 3
   },
   "file_extension": ".py",
   "mimetype": "text/x-python",
   "name": "python",
   "nbconvert_exporter": "python",
   "pygments_lexer": "ipython3",
   "version": "3.9.12"
  },
  "orig_nbformat": 4,
  "vscode": {
   "interpreter": {
    "hash": "52d90d3cc821dd0beedd6e719dbdecc722c226b9d90ed1b663c34e1877f1142e"
   }
  }
 },
 "nbformat": 4,
 "nbformat_minor": 2
}
