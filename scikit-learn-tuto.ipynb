{
 "cells": [
  {
   "cell_type": "markdown",
   "metadata": {},
   "source": [
    "#### Data Class"
   ]
  },
  {
   "cell_type": "code",
   "execution_count": 2,
   "metadata": {},
   "outputs": [],
   "source": [
    "class Sentiment:\n",
    "    NEGATIVE = \"NEGATIVE\"\n",
    "    NEUTRAL = \"NEUTRAL\"\n",
    "    POSITIVE = \"POSITIVE\"\n",
    "    \n",
    "class Review:\n",
    "    def __init__(self, text, score):\n",
    "        self.text = text\n",
    "        self.score = score\n",
    "        self.sentiment = self.get_sentiment()\n",
    "    \n",
    "    def get_sentiment(self):\n",
    "        if self.score <= 2:\n",
    "            return Sentiment.NEGATIVE\n",
    "        elif self.score == 3:\n",
    "            return Sentiment.NEUTRAL\n",
    "        else: #Score of 4 or 5\n",
    "            return Sentiment.POSITIVE"
   ]
  },
  {
   "cell_type": "markdown",
   "metadata": {},
   "source": [
    "#### Load Data"
   ]
  },
  {
   "cell_type": "code",
   "execution_count": 3,
   "metadata": {},
   "outputs": [
    {
     "data": {
      "text/plain": [
       "'POSITIVE'"
      ]
     },
     "execution_count": 3,
     "metadata": {},
     "output_type": "execute_result"
    }
   ],
   "source": [
    "import json\n",
    "\n",
    "file_name = 'Books_small.json'\n",
    "\n",
    "reviews = []\n",
    "with open(file_name) as f:\n",
    "    for line in f:\n",
    "        review = json.loads(line)\n",
    "        reviews.append(Review(review['reviewText'], review['overall']))\n",
    "        \n",
    "reviews[5].sentiment"
   ]
  },
  {
   "cell_type": "markdown",
   "metadata": {},
   "source": [
    "### Prep Data"
   ]
  },
  {
   "cell_type": "code",
   "execution_count": 4,
   "metadata": {},
   "outputs": [],
   "source": [
    "from sklearn.model_selection import train_test_split\n",
    "\n",
    "training, test = train_test_split(reviews, test_size=0.33, random_state=42)"
   ]
  },
  {
   "cell_type": "code",
   "execution_count": 5,
   "metadata": {},
   "outputs": [
    {
     "ename": "AttributeError",
     "evalue": "'Review' object has no attribute 'test'",
     "output_type": "error",
     "traceback": [
      "\u001b[1;31m---------------------------------------------------------------------------\u001b[0m",
      "\u001b[1;31mAttributeError\u001b[0m                            Traceback (most recent call last)",
      "\u001b[1;32mc:\\Users\\Asus\\Documents\\Python\\Pandas\\scikit-learn-tuto.ipynb Cell 7\u001b[0m in \u001b[0;36m<cell line: 4>\u001b[1;34m()\u001b[0m\n\u001b[0;32m      <a href='vscode-notebook-cell:/c%3A/Users/Asus/Documents/Python/Pandas/scikit-learn-tuto.ipynb#ch0000006?line=0'>1</a>\u001b[0m train_x \u001b[39m=\u001b[39m [x\u001b[39m.\u001b[39mtext \u001b[39mfor\u001b[39;00m x \u001b[39min\u001b[39;00m training]\n\u001b[0;32m      <a href='vscode-notebook-cell:/c%3A/Users/Asus/Documents/Python/Pandas/scikit-learn-tuto.ipynb#ch0000006?line=1'>2</a>\u001b[0m train_y \u001b[39m=\u001b[39m [x\u001b[39m.\u001b[39msentiment \u001b[39mfor\u001b[39;00m x \u001b[39min\u001b[39;00m training]\n\u001b[1;32m----> <a href='vscode-notebook-cell:/c%3A/Users/Asus/Documents/Python/Pandas/scikit-learn-tuto.ipynb#ch0000006?line=3'>4</a>\u001b[0m test_x \u001b[39m=\u001b[39m [x\u001b[39m.\u001b[39mtest \u001b[39mfor\u001b[39;00m x \u001b[39min\u001b[39;00m test]\n\u001b[0;32m      <a href='vscode-notebook-cell:/c%3A/Users/Asus/Documents/Python/Pandas/scikit-learn-tuto.ipynb#ch0000006?line=4'>5</a>\u001b[0m test_y \u001b[39m=\u001b[39m [x\u001b[39m.\u001b[39msentiment \u001b[39mfor\u001b[39;00m x \u001b[39min\u001b[39;00m test]\n",
      "\u001b[1;32mc:\\Users\\Asus\\Documents\\Python\\Pandas\\scikit-learn-tuto.ipynb Cell 7\u001b[0m in \u001b[0;36m<listcomp>\u001b[1;34m(.0)\u001b[0m\n\u001b[0;32m      <a href='vscode-notebook-cell:/c%3A/Users/Asus/Documents/Python/Pandas/scikit-learn-tuto.ipynb#ch0000006?line=0'>1</a>\u001b[0m train_x \u001b[39m=\u001b[39m [x\u001b[39m.\u001b[39mtext \u001b[39mfor\u001b[39;00m x \u001b[39min\u001b[39;00m training]\n\u001b[0;32m      <a href='vscode-notebook-cell:/c%3A/Users/Asus/Documents/Python/Pandas/scikit-learn-tuto.ipynb#ch0000006?line=1'>2</a>\u001b[0m train_y \u001b[39m=\u001b[39m [x\u001b[39m.\u001b[39msentiment \u001b[39mfor\u001b[39;00m x \u001b[39min\u001b[39;00m training]\n\u001b[1;32m----> <a href='vscode-notebook-cell:/c%3A/Users/Asus/Documents/Python/Pandas/scikit-learn-tuto.ipynb#ch0000006?line=3'>4</a>\u001b[0m test_x \u001b[39m=\u001b[39m [x\u001b[39m.\u001b[39;49mtest \u001b[39mfor\u001b[39;00m x \u001b[39min\u001b[39;00m test]\n\u001b[0;32m      <a href='vscode-notebook-cell:/c%3A/Users/Asus/Documents/Python/Pandas/scikit-learn-tuto.ipynb#ch0000006?line=4'>5</a>\u001b[0m test_y \u001b[39m=\u001b[39m [x\u001b[39m.\u001b[39msentiment \u001b[39mfor\u001b[39;00m x \u001b[39min\u001b[39;00m test]\n",
      "\u001b[1;31mAttributeError\u001b[0m: 'Review' object has no attribute 'test'"
     ]
    }
   ],
   "source": [
    "train_x = [x.text for x in training]\n",
    "train_y = [x.sentiment for x in training]\n",
    "\n",
    "test_x = [x.test for x in test]\n",
    "test_y = [x.sentiment for x in test]"
   ]
  },
  {
   "cell_type": "markdown",
   "metadata": {},
   "source": [
    "Bag of words vectorization"
   ]
  },
  {
   "cell_type": "code",
   "execution_count": 12,
   "metadata": {},
   "outputs": [
    {
     "ename": "NameError",
     "evalue": "name 'test_x' is not defined",
     "output_type": "error",
     "traceback": [
      "\u001b[1;31m---------------------------------------------------------------------------\u001b[0m",
      "\u001b[1;31mNameError\u001b[0m                                 Traceback (most recent call last)",
      "\u001b[1;32mc:\\Users\\Asus\\Documents\\Python\\Pandas\\scikit-learn-tuto.ipynb Cell 9\u001b[0m in \u001b[0;36m<cell line: 6>\u001b[1;34m()\u001b[0m\n\u001b[0;32m      <a href='vscode-notebook-cell:/c%3A/Users/Asus/Documents/Python/Pandas/scikit-learn-tuto.ipynb#ch0000007?line=2'>3</a>\u001b[0m vectorizer \u001b[39m=\u001b[39m CountVectorizer()\n\u001b[0;32m      <a href='vscode-notebook-cell:/c%3A/Users/Asus/Documents/Python/Pandas/scikit-learn-tuto.ipynb#ch0000007?line=3'>4</a>\u001b[0m train_x_vectors \u001b[39m=\u001b[39m vectorizer\u001b[39m.\u001b[39mfit_transform(train_x)\n\u001b[1;32m----> <a href='vscode-notebook-cell:/c%3A/Users/Asus/Documents/Python/Pandas/scikit-learn-tuto.ipynb#ch0000007?line=5'>6</a>\u001b[0m test_x_vectors \u001b[39m=\u001b[39m vectorizer\u001b[39m.\u001b[39mtransform(test_x)\n\u001b[0;32m      <a href='vscode-notebook-cell:/c%3A/Users/Asus/Documents/Python/Pandas/scikit-learn-tuto.ipynb#ch0000007?line=7'>8</a>\u001b[0m \u001b[39mprint\u001b[39m(train_x[\u001b[39m0\u001b[39m])\n\u001b[0;32m      <a href='vscode-notebook-cell:/c%3A/Users/Asus/Documents/Python/Pandas/scikit-learn-tuto.ipynb#ch0000007?line=8'>9</a>\u001b[0m \u001b[39mprint\u001b[39m(train_x_vectors[\u001b[39m0\u001b[39m]\u001b[39m.\u001b[39mtoarray())\n",
      "\u001b[1;31mNameError\u001b[0m: name 'test_x' is not defined"
     ]
    }
   ],
   "source": [
    "from sklearn.feature_extraction.text import CountVectorizer\n",
    "\n",
    "vectorizer = CountVectorizer()\n",
    "train_x_vectors = vectorizer.fit_transform(train_x)\n",
    "\n",
    "test_x_vectors = vectorizer.transform(test_x)\n",
    "\n",
    "print(train_x[0])\n",
    "print(train_x_vectors[0].toarray())\n"
   ]
  },
  {
   "cell_type": "markdown",
   "metadata": {},
   "source": [
    "### Classification"
   ]
  },
  {
   "cell_type": "markdown",
   "metadata": {},
   "source": [
    "Linear SVM"
   ]
  },
  {
   "cell_type": "code",
   "execution_count": 13,
   "metadata": {},
   "outputs": [
    {
     "ename": "NameError",
     "evalue": "name 'test_x' is not defined",
     "output_type": "error",
     "traceback": [
      "\u001b[1;31m---------------------------------------------------------------------------\u001b[0m",
      "\u001b[1;31mNameError\u001b[0m                                 Traceback (most recent call last)",
      "\u001b[1;32mc:\\Users\\Asus\\Documents\\Python\\Pandas\\scikit-learn-tuto.ipynb Cell 12\u001b[0m in \u001b[0;36m<cell line: 6>\u001b[1;34m()\u001b[0m\n\u001b[0;32m      <a href='vscode-notebook-cell:/c%3A/Users/Asus/Documents/Python/Pandas/scikit-learn-tuto.ipynb#ch0000013?line=2'>3</a>\u001b[0m clf_svm \u001b[39m=\u001b[39m svm\u001b[39m.\u001b[39mSVC(kernel\u001b[39m=\u001b[39m\u001b[39m'\u001b[39m\u001b[39mlinear\u001b[39m\u001b[39m'\u001b[39m)\n\u001b[0;32m      <a href='vscode-notebook-cell:/c%3A/Users/Asus/Documents/Python/Pandas/scikit-learn-tuto.ipynb#ch0000013?line=3'>4</a>\u001b[0m clf_svm\u001b[39m.\u001b[39mfit(train_x_vectors, train_y)\n\u001b[1;32m----> <a href='vscode-notebook-cell:/c%3A/Users/Asus/Documents/Python/Pandas/scikit-learn-tuto.ipynb#ch0000013?line=5'>6</a>\u001b[0m test_x[\u001b[39m0\u001b[39m]\n\u001b[0;32m      <a href='vscode-notebook-cell:/c%3A/Users/Asus/Documents/Python/Pandas/scikit-learn-tuto.ipynb#ch0000013?line=6'>7</a>\u001b[0m clf_svm\u001b[39m.\u001b[39mpredict(test_x_vectors[\u001b[39m0\u001b[39m])\n",
      "\u001b[1;31mNameError\u001b[0m: name 'test_x' is not defined"
     ]
    }
   ],
   "source": [
    "from sklearn import svm\n",
    "\n",
    "clf_svm = svm.SVC(kernel='linear')\n",
    "clf_svm.fit(train_x_vectors, train_y)\n",
    "\n",
    "test_x[0]\n",
    "clf_svm.predict(test_x_vectors[0])"
   ]
  }
 ],
 "metadata": {
  "kernelspec": {
   "display_name": "Python 3.9.12 ('base')",
   "language": "python",
   "name": "python3"
  },
  "language_info": {
   "codemirror_mode": {
    "name": "ipython",
    "version": 3
   },
   "file_extension": ".py",
   "mimetype": "text/x-python",
   "name": "python",
   "nbconvert_exporter": "python",
   "pygments_lexer": "ipython3",
   "version": "3.9.12"
  },
  "orig_nbformat": 4,
  "vscode": {
   "interpreter": {
    "hash": "52d90d3cc821dd0beedd6e719dbdecc722c226b9d90ed1b663c34e1877f1142e"
   }
  }
 },
 "nbformat": 4,
 "nbformat_minor": 2
}
